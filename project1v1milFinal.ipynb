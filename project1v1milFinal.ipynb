{
 "cells": [
  {
   "cell_type": "code",
   "execution_count": 1,
   "metadata": {},
   "outputs": [],
   "source": [
    "import pandas as pd\n",
    "import numpy as np\n",
    "import tensorflow as tf\n",
    "from sklearn.preprocessing import MinMaxScaler\n",
    "from sklearn.model_selection import train_test_split\n",
    "from sklearn.metrics import mean_squared_error as MSE"
   ]
  },
  {
   "cell_type": "code",
   "execution_count": 2,
   "metadata": {},
   "outputs": [],
   "source": [
    "rating = pd.read_csv('/Users/blakemyers/Desktop/Jupyter/ml-1m/ratings.csv', sep = \"::\", error_bad_lines=False, encoding='latin-1', engine='python')"
   ]
  },
  {
   "cell_type": "code",
   "execution_count": 3,
   "metadata": {},
   "outputs": [],
   "source": [
    "rating.rename({\"1\": \"userId\", \"1193\": \"movieId\", \"5\": \"rating\", \"978300760\": \"timestamp\"}, axis=1, inplace=True)"
   ]
  },
  {
   "cell_type": "code",
   "execution_count": 4,
   "metadata": {},
   "outputs": [],
   "source": [
    "movie = pd.read_csv(\"/Users/blakemyers/Desktop/Jupyter/ml-1m/movies.csv\", sep = \"::\", error_bad_lines=False, encoding='latin-1', engine='python')"
   ]
  },
  {
   "cell_type": "code",
   "execution_count": 5,
   "metadata": {},
   "outputs": [],
   "source": [
    "movie.rename({\"1\": \"movieId\", \"Toy Story (1995)\": \"title\", \"Animation|Children's|Comedy\": \"genre\"}, axis=1, inplace=True)"
   ]
  },
  {
   "cell_type": "code",
   "execution_count": 6,
   "metadata": {},
   "outputs": [],
   "source": [
    "movie_rating = pd.merge(rating, movie, on = 'movieId')"
   ]
  },
  {
   "cell_type": "code",
   "execution_count": 7,
   "metadata": {},
   "outputs": [],
   "source": [
    "cols = ['timestamp']"
   ]
  },
  {
   "cell_type": "code",
   "execution_count": 8,
   "metadata": {},
   "outputs": [],
   "source": [
    "movie_rating.drop(cols, axis=1, inplace=True)"
   ]
  },
  {
   "cell_type": "code",
   "execution_count": 9,
   "metadata": {},
   "outputs": [],
   "source": [
    "numrate_movie = movie_rating.groupby(\"title\")[\"rating\"].count().reset_index()"
   ]
  },
  {
   "cell_type": "code",
   "execution_count": 10,
   "metadata": {},
   "outputs": [],
   "source": [
    "numrate_movie.rename({\"rating\": \"ratecount_movie\"}, axis=1, inplace=True)"
   ]
  },
  {
   "cell_type": "code",
   "execution_count": 11,
   "metadata": {},
   "outputs": [],
   "source": [
    "numrate_movie = numrate_movie.query(\"ratecount_movie >= 20\")"
   ]
  },
  {
   "cell_type": "code",
   "execution_count": 12,
   "metadata": {},
   "outputs": [],
   "source": [
    "ratings20plus = pd.merge(numrate_movie, movie_rating, on = 'title', how = 'inner')"
   ]
  },
  {
   "cell_type": "code",
   "execution_count": 13,
   "metadata": {},
   "outputs": [],
   "source": [
    "numrate_user = ratings20plus.groupby(\"userId\")[\"rating\"].count().reset_index()"
   ]
  },
  {
   "cell_type": "code",
   "execution_count": 14,
   "metadata": {},
   "outputs": [],
   "source": [
    "numrate_user.rename({\"rating\": \"ratecount_user\"}, axis=1, inplace=True)"
   ]
  },
  {
   "cell_type": "code",
   "execution_count": 15,
   "metadata": {},
   "outputs": [],
   "source": [
    "numrate_user = numrate_user.query(\"ratecount_user >= 20\")"
   ]
  },
  {
   "cell_type": "code",
   "execution_count": 16,
   "metadata": {},
   "outputs": [],
   "source": [
    "ur20plus = pd.merge(ratings20plus, numrate_user, on = \"userId\", how = \"inner\")"
   ]
  },
  {
   "cell_type": "code",
   "execution_count": 17,
   "metadata": {},
   "outputs": [],
   "source": [
    "scaler = MinMaxScaler()\n",
    "ur20plus['rating'] = ur20plus['rating'].values.astype(float) #set rating values as float\n",
    "rating_scaled = pd.DataFrame(scaler.fit_transform(ur20plus['rating'].values.reshape(-1,1)))\n",
    "#place the rating values on a scale from -1 to 1\n",
    "ur20plus['rating'] = rating_scaled"
   ]
  },
  {
   "cell_type": "code",
   "execution_count": 18,
   "metadata": {},
   "outputs": [],
   "source": [
    "ur20plus = ur20plus.drop_duplicates(['userId', 'title']) #drop duplicates\n",
    "user_movie_matrix = ur20plus.pivot(index='userId', columns='title', values='rating')\n",
    "#create matrix (see below)\n",
    "user_movie_matrix.fillna(0, inplace=True)"
   ]
  },
  {
   "cell_type": "code",
   "execution_count": 19,
   "metadata": {},
   "outputs": [],
   "source": [
    "X_train, X_test = train_test_split(user_movie_matrix, train_size=0.8)\n",
    "#split the training data (80%) from the testing data"
   ]
  },
  {
   "cell_type": "code",
   "execution_count": 20,
   "metadata": {},
   "outputs": [
    {
     "name": "stdout",
     "output_type": "stream",
     "text": [
      "WARNING:tensorflow:From /Users/blakemyers/opt/anaconda3/envs/tf_environment/lib/python3.7/site-packages/tensorflow_core/python/compat/v2_compat.py:65: disable_resource_variables (from tensorflow.python.ops.variable_scope) is deprecated and will be removed in a future version.\n",
      "Instructions for updating:\n",
      "non-resource variables are not supported in the long term\n"
     ]
    }
   ],
   "source": [
    "import tensorflow.compat.v1 as tf\n",
    "tf.disable_v2_behavior()"
   ]
  },
  {
   "cell_type": "code",
   "execution_count": 21,
   "metadata": {},
   "outputs": [],
   "source": [
    "num_input = ur20plus['title'].nunique()\n",
    "# Deciding how many nodes each layer should have\n",
    "n_nodes_inpl = num_input\n",
    "n_nodes_hl1  = 256\n",
    "n_nodes_outl = num_input  \n",
    "# first hidden layer has num_input*32 weights and 32 biases\n",
    "hidden_1_layer_vals = {'weights':tf.Variable(tf.random_normal([n_nodes_inpl+1,n_nodes_hl1]))}\n",
    "# first hidden layer has 784*32 weights and 32 biases\n",
    "output_layer_vals = {'weights':tf.Variable(tf.random_normal([n_nodes_hl1+1,n_nodes_outl]))}"
   ]
  },
  {
   "cell_type": "code",
   "execution_count": 22,
   "metadata": {},
   "outputs": [
    {
     "name": "stdout",
     "output_type": "stream",
     "text": [
      "WARNING:tensorflow:From /Users/blakemyers/opt/anaconda3/envs/tf_environment/lib/python3.7/site-packages/tensorflow_core/python/training/adagrad.py:76: calling Constant.__init__ (from tensorflow.python.ops.init_ops) with dtype is deprecated and will be removed in a future version.\n",
      "Instructions for updating:\n",
      "Call initializer instance with the dtype argument instead of passing it to the constructor\n"
     ]
    }
   ],
   "source": [
    "input_layer = tf.placeholder('float', [None, num_input])\n",
    "# add a constant node to the first layer\n",
    "# it needs to have the same shape as the input layer to be able to concatinate it later\n",
    "input_layer_const = tf.fill( [tf.shape(input_layer)[0], 1] ,1.0  )\n",
    "input_layer_concat =  tf.concat([input_layer, input_layer_const], 1)\n",
    "# multiply output of input_layer wth a weight matrix \n",
    "layer_1 = tf.nn.sigmoid(tf.matmul(input_layer_concat,\\\n",
    "hidden_1_layer_vals['weights']))\n",
    "# adding one bias node to the hidden layer\n",
    "layer1_const = tf.fill( [tf.shape(layer_1)[0], 1] ,1.0  )\n",
    "layer_concat =  tf.concat([layer_1, layer1_const], 1)\n",
    "# multiply output of hidden with a weight matrix to get final output\n",
    "output_layer = tf.matmul( layer_concat,output_layer_vals['weights'])\n",
    "# output_true shall have the original shape for error calculations\n",
    "output_true = tf.placeholder('float', [None, num_input])\n",
    "# define cost function\n",
    "meansq =    tf.reduce_mean(tf.square(output_layer - output_true))\n",
    "# define optimizer\n",
    "learn_rate = 0.1   # how fast the model should learn\n",
    "optimizer = tf.train.AdagradOptimizer(learn_rate).minimize(meansq)"
   ]
  },
  {
   "cell_type": "code",
   "execution_count": 23,
   "metadata": {},
   "outputs": [],
   "source": [
    "# initialising variables and starting the session\n",
    "init = tf.global_variables_initializer()\n",
    "sess = tf.Session()\n",
    "sess.run(init)\n",
    "# defining batch size, number of epochs and learning rate\n",
    "batch_size = 100  # how many images to use together for training\n",
    "hm_epochs =200    # how many times to go through the entire dataset\n",
    "tot_images = X_train.shape[0] # total number of images"
   ]
  },
  {
   "cell_type": "code",
   "execution_count": 24,
   "metadata": {},
   "outputs": [
    {
     "name": "stdout",
     "output_type": "stream",
     "text": [
      "MSE train 46.78172693458639 MSE test 47.04147937731239\n",
      "Epoch 0 / 200 loss: 3364.2936973571777\n",
      "MSE train 30.856102592054057 MSE test 31.194315330043338\n",
      "Epoch 1 / 200 loss: 1826.058198928833\n",
      "MSE train 22.278783707306648 MSE test 22.655380074266667\n",
      "Epoch 2 / 200 loss: 1264.5690650939941\n",
      "MSE train 16.896151744216937 MSE test 17.282881246058494\n",
      "Epoch 3 / 200 loss: 936.4319343566895\n",
      "MSE train 13.306052216637273 MSE test 13.681309024871702\n",
      "Epoch 4 / 200 loss: 723.3825130462646\n",
      "MSE train 10.886063483586833 MSE test 11.213885796187139\n",
      "Epoch 5 / 200 loss: 579.7373304367065\n",
      "MSE train 9.198073524130821 MSE test 9.483610730197759\n",
      "Epoch 6 / 200 loss: 482.072566986084\n",
      "MSE train 7.968654641045418 MSE test 8.227080432288938\n",
      "Epoch 7 / 200 loss: 412.48894214630127\n",
      "MSE train 7.030609559204108 MSE test 7.266145205645336\n",
      "Epoch 8 / 200 loss: 360.6009135246277\n",
      "MSE train 6.296513058310974 MSE test 6.512188913212953\n",
      "Epoch 9 / 200 loss: 320.5431351661682\n",
      "MSE train 5.705229723754047 MSE test 5.904772754317141\n",
      "Epoch 10 / 200 loss: 288.7528419494629\n",
      ".......................\n",
      "MSE train 0.1758096185225059 MSE test 0.32711755449395336\n",
      "Epoch 190 / 200 loss: 8.476375132799149\n",
      "MSE train 0.174318218478878 MSE test 0.3255963716117782\n",
      "Epoch 191 / 200 loss: 8.404132820665836\n",
      "MSE train 0.17284843517054774 MSE test 0.3240962103641655\n",
      "Epoch 192 / 200 loss: 8.332932285964489\n",
      "MSE train 0.1714000262692951 MSE test 0.3226167227687581\n",
      "Epoch 193 / 200 loss: 8.262762188911438\n",
      "MSE train 0.1699727277119156 MSE test 0.3211575825908957\n",
      "Epoch 194 / 200 loss: 8.19361149519682\n",
      "MSE train 0.1685662603396987 MSE test 0.31971846119671676\n",
      "Epoch 195 / 200 loss: 8.125467017292976\n",
      "MSE train 0.16718031029865263 MSE test 0.31829899621077207\n",
      "Epoch 196 / 200 loss: 8.05831529200077\n",
      "MSE train 0.16581454513112776 MSE test 0.3168988572965758\n",
      "Epoch 197 / 200 loss: 7.992141991853714\n",
      "MSE train 0.16446863243458443 MSE test 0.3155177212675897\n",
      "Epoch 198 / 200 loss: 7.926930695772171\n",
      "MSE train 0.16314222007549425 MSE test 0.31415527593061016\n",
      "Epoch 199 / 200 loss: 7.862665943801403\n"
     ]
    }
   ],
   "source": [
    "# running the model for a 200 epochs taking 100 users in batches\n",
    "# total improvement is printed out after each epoch\n",
    "for epoch in range(hm_epochs):\n",
    "    epoch_loss = 0    # initializing loss (error) as 0\n",
    "    \n",
    "    for i in range(int(tot_images/batch_size)):\n",
    "        epoch_x = X_train[ i*batch_size : (i+1)*batch_size ]\n",
    "        _, c = sess.run([optimizer, meansq],\\\n",
    "               feed_dict={input_layer: epoch_x, \\\n",
    "               output_true: epoch_x})\n",
    "        epoch_loss += c\n",
    "        \n",
    "    output_train = sess.run(output_layer,\\\n",
    "               feed_dict={input_layer:X_train})\n",
    "    output_test = sess.run(output_layer,\\\n",
    "                   feed_dict={input_layer:X_test})\n",
    "        \n",
    "    if epoch <= 10 or epoch >= 190:\n",
    "        print('MSE train', MSE(output_train, X_train),'MSE test', MSE(output_test, X_test))\n",
    "        print('Epoch', epoch, '/', hm_epochs, 'loss:',epoch_loss)\n",
    "    elif epoch == 11:\n",
    "        print('.......................')\n",
    "    else:\n",
    "        continue"
   ]
  },
  {
   "cell_type": "code",
   "execution_count": 25,
   "metadata": {},
   "outputs": [
    {
     "data": {
      "text/html": [
       "<div>\n",
       "<style scoped>\n",
       "    .dataframe tbody tr th:only-of-type {\n",
       "        vertical-align: middle;\n",
       "    }\n",
       "\n",
       "    .dataframe tbody tr th {\n",
       "        vertical-align: top;\n",
       "    }\n",
       "\n",
       "    .dataframe thead th {\n",
       "        text-align: right;\n",
       "    }\n",
       "</style>\n",
       "<table border=\"1\" class=\"dataframe\">\n",
       "  <thead>\n",
       "    <tr style=\"text-align: right;\">\n",
       "      <th></th>\n",
       "      <th>userId</th>\n",
       "      <th>title</th>\n",
       "      <th>rating</th>\n",
       "    </tr>\n",
       "  </thead>\n",
       "  <tbody>\n",
       "    <tr>\n",
       "      <th>18299163</th>\n",
       "      <td>9999991</td>\n",
       "      <td>Koyaanisqatsi (1983)</td>\n",
       "      <td>2.801270</td>\n",
       "    </tr>\n",
       "    <tr>\n",
       "      <th>18297998</th>\n",
       "      <td>9999991</td>\n",
       "      <td>Bloodsport 2 (1995)</td>\n",
       "      <td>2.791837</td>\n",
       "    </tr>\n",
       "    <tr>\n",
       "      <th>18298777</th>\n",
       "      <td>9999991</td>\n",
       "      <td>Gone with the Wind (1939)</td>\n",
       "      <td>2.693222</td>\n",
       "    </tr>\n",
       "    <tr>\n",
       "      <th>18299597</th>\n",
       "      <td>9999991</td>\n",
       "      <td>Nikita (La Femme Nikita) (1990)</td>\n",
       "      <td>2.602829</td>\n",
       "    </tr>\n",
       "    <tr>\n",
       "      <th>18297943</th>\n",
       "      <td>9999991</td>\n",
       "      <td>Bicycle Thief, The (Ladri di biciclette) (1948)</td>\n",
       "      <td>2.488431</td>\n",
       "    </tr>\n",
       "    <tr>\n",
       "      <th>18300429</th>\n",
       "      <td>9999991</td>\n",
       "      <td>Touch (1997)</td>\n",
       "      <td>2.420003</td>\n",
       "    </tr>\n",
       "    <tr>\n",
       "      <th>18300070</th>\n",
       "      <td>9999991</td>\n",
       "      <td>Shadow, The (1994)</td>\n",
       "      <td>2.386274</td>\n",
       "    </tr>\n",
       "    <tr>\n",
       "      <th>18297806</th>\n",
       "      <td>9999991</td>\n",
       "      <td>Armageddon (1998)</td>\n",
       "      <td>2.374817</td>\n",
       "    </tr>\n",
       "    <tr>\n",
       "      <th>18300308</th>\n",
       "      <td>9999991</td>\n",
       "      <td>Switchblade Sisters (1975)</td>\n",
       "      <td>2.362792</td>\n",
       "    </tr>\n",
       "    <tr>\n",
       "      <th>18300362</th>\n",
       "      <td>9999991</td>\n",
       "      <td>Things Change (1988)</td>\n",
       "      <td>2.353522</td>\n",
       "    </tr>\n",
       "  </tbody>\n",
       "</table>\n",
       "</div>"
      ],
      "text/plain": [
       "           userId                                            title    rating\n",
       "18299163  9999991                             Koyaanisqatsi (1983)  2.801270\n",
       "18297998  9999991                              Bloodsport 2 (1995)  2.791837\n",
       "18298777  9999991                        Gone with the Wind (1939)  2.693222\n",
       "18299597  9999991                  Nikita (La Femme Nikita) (1990)  2.602829\n",
       "18297943  9999991  Bicycle Thief, The (Ladri di biciclette) (1948)  2.488431\n",
       "18300429  9999991                                     Touch (1997)  2.420003\n",
       "18300070  9999991                               Shadow, The (1994)  2.386274\n",
       "18297806  9999991                                Armageddon (1998)  2.374817\n",
       "18300308  9999991                       Switchblade Sisters (1975)  2.362792\n",
       "18300362  9999991                             Things Change (1988)  2.353522"
      ]
     },
     "execution_count": 25,
     "metadata": {},
     "output_type": "execute_result"
    }
   ],
   "source": [
    "# a top 10 ranking for a new user (9999991) who rates \"Chariots of Fire (1981)\" with a 5\n",
    "ur20plus = ur20plus.append(pd.DataFrame([[\"Chariots of Fire (1981)\",1,9999991,1,5,\"genre\",1]], columns =ur20plus.columns), ignore_index=True)\n",
    "scaler = MinMaxScaler()\n",
    "ur20plus['rating'] = ur20plus['rating'].values.astype(float)\n",
    "rating_scaled = pd.DataFrame(scaler.fit_transform(ur20plus['rating'].values.reshape(-1,1)))\n",
    "ur20plus['rating'] = rating_scaled\n",
    "ur20plus = ur20plus.drop_duplicates(['userId', 'title'])\n",
    "user_movie_matrix = ur20plus.pivot(index='userId', columns='title', values='rating')\n",
    "user_movie_matrix.fillna(0, inplace=True)\n",
    "pred_data = pd.DataFrame()\n",
    "preds = sess.run(output_layer, feed_dict={input_layer: user_movie_matrix})\n",
    "pred_data = pred_data.append(pd.DataFrame(preds))\n",
    "pred_data = pred_data.stack().reset_index(name='rating')\n",
    "pred_data.columns = ['userId', 'title', 'rating']\n",
    "users = user_movie_matrix.index.tolist()\n",
    "movies = user_movie_matrix.columns.tolist()\n",
    "pred_data['userId'] = pred_data['userId'].map(lambda value: users[value])\n",
    "pred_data['title'] = pred_data['title'].map(lambda value: movies[value])\n",
    "keys = ['userId', 'title']\n",
    "index_1 = pred_data.set_index(keys).index\n",
    "index_2 = ur20plus.set_index(keys).index\n",
    "top_ten_ranked = pred_data[~index_1.isin(index_2)]\n",
    "top_ten_ranked = top_ten_ranked.sort_values(['userId', 'rating'], ascending=[True, False])\n",
    "top_ten_ranked = top_ten_ranked.groupby('userId').head(10)\n",
    "top_ten_ranked.loc[top_ten_ranked['userId'] == 9999991]"
   ]
  },
  {
   "cell_type": "code",
   "execution_count": 26,
   "metadata": {},
   "outputs": [
    {
     "data": {
      "text/html": [
       "<div>\n",
       "<style scoped>\n",
       "    .dataframe tbody tr th:only-of-type {\n",
       "        vertical-align: middle;\n",
       "    }\n",
       "\n",
       "    .dataframe tbody tr th {\n",
       "        vertical-align: top;\n",
       "    }\n",
       "\n",
       "    .dataframe thead th {\n",
       "        text-align: right;\n",
       "    }\n",
       "</style>\n",
       "<table border=\"1\" class=\"dataframe\">\n",
       "  <thead>\n",
       "    <tr style=\"text-align: right;\">\n",
       "      <th></th>\n",
       "      <th>userId</th>\n",
       "      <th>title</th>\n",
       "      <th>rating</th>\n",
       "    </tr>\n",
       "  </thead>\n",
       "  <tbody>\n",
       "    <tr>\n",
       "      <th>18300922</th>\n",
       "      <td>9999992</td>\n",
       "      <td>Basketball Diaries, The (1995)</td>\n",
       "      <td>2.588409</td>\n",
       "    </tr>\n",
       "    <tr>\n",
       "      <th>18302704</th>\n",
       "      <td>9999992</td>\n",
       "      <td>Open Your Eyes (Abre los ojos) (1997)</td>\n",
       "      <td>2.289147</td>\n",
       "    </tr>\n",
       "    <tr>\n",
       "      <th>18303396</th>\n",
       "      <td>9999992</td>\n",
       "      <td>They Might Be Giants (1971)</td>\n",
       "      <td>2.018482</td>\n",
       "    </tr>\n",
       "    <tr>\n",
       "      <th>18302205</th>\n",
       "      <td>9999992</td>\n",
       "      <td>Koyaanisqatsi (1983)</td>\n",
       "      <td>2.006338</td>\n",
       "    </tr>\n",
       "    <tr>\n",
       "      <th>18301758</th>\n",
       "      <td>9999992</td>\n",
       "      <td>George of the Jungle (1997)</td>\n",
       "      <td>1.930323</td>\n",
       "    </tr>\n",
       "    <tr>\n",
       "      <th>18303519</th>\n",
       "      <td>9999992</td>\n",
       "      <td>Two Girls and a Guy (1997)</td>\n",
       "      <td>1.921138</td>\n",
       "    </tr>\n",
       "    <tr>\n",
       "      <th>18303360</th>\n",
       "      <td>9999992</td>\n",
       "      <td>Tall Tale (1994)</td>\n",
       "      <td>1.909445</td>\n",
       "    </tr>\n",
       "    <tr>\n",
       "      <th>18303179</th>\n",
       "      <td>9999992</td>\n",
       "      <td>Slingshot, The (Kådisbellan ) (1993)</td>\n",
       "      <td>1.907789</td>\n",
       "    </tr>\n",
       "    <tr>\n",
       "      <th>18301434</th>\n",
       "      <td>9999992</td>\n",
       "      <td>Devil's Own, The (1997)</td>\n",
       "      <td>1.904878</td>\n",
       "    </tr>\n",
       "    <tr>\n",
       "      <th>18302806</th>\n",
       "      <td>9999992</td>\n",
       "      <td>Pink Flamingos (1972)</td>\n",
       "      <td>1.900558</td>\n",
       "    </tr>\n",
       "  </tbody>\n",
       "</table>\n",
       "</div>"
      ],
      "text/plain": [
       "           userId                                  title    rating\n",
       "18300922  9999992         Basketball Diaries, The (1995)  2.588409\n",
       "18302704  9999992  Open Your Eyes (Abre los ojos) (1997)  2.289147\n",
       "18303396  9999992            They Might Be Giants (1971)  2.018482\n",
       "18302205  9999992                   Koyaanisqatsi (1983)  2.006338\n",
       "18301758  9999992            George of the Jungle (1997)  1.930323\n",
       "18303519  9999992             Two Girls and a Guy (1997)  1.921138\n",
       "18303360  9999992                       Tall Tale (1994)  1.909445\n",
       "18303179  9999992   Slingshot, The (Kådisbellan ) (1993)  1.907789\n",
       "18301434  9999992                Devil's Own, The (1997)  1.904878\n",
       "18302806  9999992                  Pink Flamingos (1972)  1.900558"
      ]
     },
     "execution_count": 26,
     "metadata": {},
     "output_type": "execute_result"
    }
   ],
   "source": [
    "# a top 10 ranking for a new user (9999992) who rates \"Hurricane, The (1999)\" with a 3\n",
    "ur20plus = ur20plus.append(pd.DataFrame([[\"Hurricane, The (1999)\",1,9999992,1,3,\"genre\",1]], columns =ur20plus.columns), ignore_index=True)\n",
    "scaler = MinMaxScaler()\n",
    "ur20plus['rating'] = ur20plus['rating'].values.astype(float)\n",
    "rating_scaled = pd.DataFrame(scaler.fit_transform(ur20plus['rating'].values.reshape(-1,1)))\n",
    "ur20plus['rating'] = rating_scaled\n",
    "ur20plus = ur20plus.drop_duplicates(['userId', 'title'])\n",
    "user_movie_matrix = ur20plus.pivot(index='userId', columns='title', values='rating')\n",
    "user_movie_matrix.fillna(0, inplace=True)\n",
    "pred_data = pd.DataFrame()\n",
    "preds = sess.run(output_layer, feed_dict={input_layer: user_movie_matrix})\n",
    "pred_data = pred_data.append(pd.DataFrame(preds))\n",
    "pred_data = pred_data.stack().reset_index(name='rating')\n",
    "pred_data.columns = ['userId', 'title', 'rating']\n",
    "users = user_movie_matrix.index.tolist()\n",
    "movies = user_movie_matrix.columns.tolist()\n",
    "pred_data['userId'] = pred_data['userId'].map(lambda value: users[value])\n",
    "pred_data['title'] = pred_data['title'].map(lambda value: movies[value])\n",
    "keys = ['userId', 'title']\n",
    "index_1 = pred_data.set_index(keys).index\n",
    "index_2 = ur20plus.set_index(keys).index\n",
    "top_ten_ranked = pred_data[~index_1.isin(index_2)]\n",
    "top_ten_ranked = top_ten_ranked.sort_values(['userId', 'rating'], ascending=[True, False])\n",
    "top_ten_ranked = top_ten_ranked.groupby('userId').head(10)\n",
    "top_ten_ranked.loc[top_ten_ranked['userId'] == 9999992]"
   ]
  }
 ],
 "metadata": {
  "kernelspec": {
   "display_name": "Python 3",
   "language": "python",
   "name": "python3"
  },
  "language_info": {
   "codemirror_mode": {
    "name": "ipython",
    "version": 3
   },
   "file_extension": ".py",
   "mimetype": "text/x-python",
   "name": "python",
   "nbconvert_exporter": "python",
   "pygments_lexer": "ipython3",
   "version": "3.7.7"
  }
 },
 "nbformat": 4,
 "nbformat_minor": 2
}
