{
 "cells": [
  {
   "cell_type": "code",
   "execution_count": 1,
   "metadata": {},
   "outputs": [],
   "source": [
    "# We used code from this tutorial:\n",
    "# https://github.com/susanli2016/Machine-Learning-with-Python/blob/master/Collaborative%20Filtering%20Model%20with%20TensorFlow.ipynb\n",
    "# And we also used code from this tutorial:\n",
    "# https://medium.com/@connectwithghosh/recommender-system-on-the-movielens-using-an-autoencoder-using-tensorflow-in-python-f13d3e8d600d\n",
    "# Then, we integrated these two tutorials and edited the code from each of them in order to create a recommender that allows us to recommend a top 10 list of movies without needing to retrain for each new user"
   ]
  },
  {
   "cell_type": "code",
   "execution_count": 2,
   "metadata": {},
   "outputs": [],
   "source": [
    "import pandas as pd\n",
    "import numpy as np\n",
    "import tensorflow as tf\n",
    "from sklearn.preprocessing import MinMaxScaler\n",
    "from sklearn.model_selection import train_test_split\n",
    "from sklearn.metrics import mean_squared_error as MSE"
   ]
  },
  {
   "cell_type": "code",
   "execution_count": 3,
   "metadata": {},
   "outputs": [],
   "source": [
    "rating = pd.read_csv('/Users/blakemyers/Desktop/Jupyter/ml-1m/ratings.csv', sep = \"::\", error_bad_lines=False, encoding='latin-1', engine='python')"
   ]
  },
  {
   "cell_type": "code",
   "execution_count": 4,
   "metadata": {},
   "outputs": [],
   "source": [
    "rating.rename({\"1\": \"userId\", \"1193\": \"movieId\", \"5\": \"rating\", \"978300760\": \"timestamp\"}, axis=1, inplace=True)"
   ]
  },
  {
   "cell_type": "code",
   "execution_count": 5,
   "metadata": {},
   "outputs": [],
   "source": [
    "movie = pd.read_csv(\"/Users/blakemyers/Desktop/Jupyter/ml-1m/movies.csv\", sep = \"::\", error_bad_lines=False, encoding='latin-1', engine='python')"
   ]
  },
  {
   "cell_type": "code",
   "execution_count": 6,
   "metadata": {},
   "outputs": [],
   "source": [
    "movie.rename({\"1\": \"movieId\", \"Toy Story (1995)\": \"title\", \"Animation|Children's|Comedy\": \"genre\"}, axis=1, inplace=True)"
   ]
  },
  {
   "cell_type": "code",
   "execution_count": 7,
   "metadata": {},
   "outputs": [],
   "source": [
    "movie_rating = pd.merge(rating, movie, on = 'movieId')"
   ]
  },
  {
   "cell_type": "code",
   "execution_count": 8,
   "metadata": {},
   "outputs": [],
   "source": [
    "cols = ['timestamp']"
   ]
  },
  {
   "cell_type": "code",
   "execution_count": 9,
   "metadata": {},
   "outputs": [],
   "source": [
    "movie_rating.drop(cols, axis=1, inplace=True)"
   ]
  },
  {
   "cell_type": "code",
   "execution_count": 10,
   "metadata": {},
   "outputs": [],
   "source": [
    "numrate_movie = movie_rating.groupby(\"title\")[\"rating\"].count().reset_index()"
   ]
  },
  {
   "cell_type": "code",
   "execution_count": 11,
   "metadata": {},
   "outputs": [],
   "source": [
    "numrate_movie.rename({\"rating\": \"ratecount_movie\"}, axis=1, inplace=True)"
   ]
  },
  {
   "cell_type": "code",
   "execution_count": 12,
   "metadata": {},
   "outputs": [],
   "source": [
    "numrate_movie = numrate_movie.query(\"ratecount_movie >= 20\")"
   ]
  },
  {
   "cell_type": "code",
   "execution_count": 13,
   "metadata": {},
   "outputs": [],
   "source": [
    "ratings20plus = pd.merge(numrate_movie, movie_rating, on = 'title', how = 'inner')"
   ]
  },
  {
   "cell_type": "code",
   "execution_count": 14,
   "metadata": {},
   "outputs": [],
   "source": [
    "numrate_user = ratings20plus.groupby(\"userId\")[\"rating\"].count().reset_index()"
   ]
  },
  {
   "cell_type": "code",
   "execution_count": 15,
   "metadata": {},
   "outputs": [],
   "source": [
    "numrate_user.rename({\"rating\": \"ratecount_user\"}, axis=1, inplace=True)"
   ]
  },
  {
   "cell_type": "code",
   "execution_count": 16,
   "metadata": {},
   "outputs": [],
   "source": [
    "numrate_user = numrate_user.query(\"ratecount_user >= 20\")"
   ]
  },
  {
   "cell_type": "code",
   "execution_count": 17,
   "metadata": {},
   "outputs": [],
   "source": [
    "ur20plus = pd.merge(ratings20plus, numrate_user, on = \"userId\", how = \"inner\")"
   ]
  },
  {
   "cell_type": "code",
   "execution_count": 18,
   "metadata": {},
   "outputs": [],
   "source": [
    "scaler = MinMaxScaler()\n",
    "ur20plus['rating'] = ur20plus['rating'].values.astype(float) #set rating values as float\n",
    "rating_scaled = pd.DataFrame(scaler.fit_transform(ur20plus['rating'].values.reshape(-1,1)))\n",
    "#place the rating values on a scale from -1 to 1\n",
    "ur20plus['rating'] = rating_scaled"
   ]
  },
  {
   "cell_type": "code",
   "execution_count": 19,
   "metadata": {},
   "outputs": [],
   "source": [
    "ur20plus = ur20plus.drop_duplicates(['userId', 'title']) #drop duplicates\n",
    "user_movie_matrix = ur20plus.pivot(index='userId', columns='title', values='rating')\n",
    "#create matrix (see below)\n",
    "user_movie_matrix.fillna(0, inplace=True)"
   ]
  },
  {
   "cell_type": "code",
   "execution_count": 20,
   "metadata": {},
   "outputs": [],
   "source": [
    "X_train, X_test = train_test_split(user_movie_matrix, train_size=0.8)\n",
    "#split the training data (80%) from the testing data"
   ]
  },
  {
   "cell_type": "code",
   "execution_count": 21,
   "metadata": {},
   "outputs": [
    {
     "name": "stdout",
     "output_type": "stream",
     "text": [
      "WARNING:tensorflow:From /Users/blakemyers/opt/anaconda3/envs/tf_environment/lib/python3.7/site-packages/tensorflow_core/python/compat/v2_compat.py:65: disable_resource_variables (from tensorflow.python.ops.variable_scope) is deprecated and will be removed in a future version.\n",
      "Instructions for updating:\n",
      "non-resource variables are not supported in the long term\n"
     ]
    }
   ],
   "source": [
    "import tensorflow.compat.v1 as tf\n",
    "tf.disable_v2_behavior()"
   ]
  },
  {
   "cell_type": "code",
   "execution_count": 22,
   "metadata": {},
   "outputs": [],
   "source": [
    "num_input = ur20plus['title'].nunique()\n",
    "# Deciding how many nodes each layer should have\n",
    "n_nodes_inpl = num_input\n",
    "n_nodes_hl1  = 256\n",
    "n_nodes_outl = num_input  \n",
    "# first hidden layer has num_input*32 weights and 32 biases\n",
    "hidden_1_layer_vals = {'weights':tf.Variable(tf.random_normal([n_nodes_inpl+1,n_nodes_hl1]))}\n",
    "# first hidden layer has 784*32 weights and 32 biases\n",
    "output_layer_vals = {'weights':tf.Variable(tf.random_normal([n_nodes_hl1+1,n_nodes_outl]))}"
   ]
  },
  {
   "cell_type": "code",
   "execution_count": 23,
   "metadata": {},
   "outputs": [
    {
     "name": "stdout",
     "output_type": "stream",
     "text": [
      "WARNING:tensorflow:From /Users/blakemyers/opt/anaconda3/envs/tf_environment/lib/python3.7/site-packages/tensorflow_core/python/training/adagrad.py:76: calling Constant.__init__ (from tensorflow.python.ops.init_ops) with dtype is deprecated and will be removed in a future version.\n",
      "Instructions for updating:\n",
      "Call initializer instance with the dtype argument instead of passing it to the constructor\n"
     ]
    }
   ],
   "source": [
    "input_layer = tf.placeholder('float', [None, num_input])\n",
    "# add a constant node to the first layer\n",
    "# it needs to have the same shape as the input layer to be able to concatinate it later\n",
    "input_layer_const = tf.fill( [tf.shape(input_layer)[0], 1] ,1.0  )\n",
    "input_layer_concat =  tf.concat([input_layer, input_layer_const], 1)\n",
    "# multiply output of input_layer wth a weight matrix \n",
    "layer_1 = tf.nn.sigmoid(tf.matmul(input_layer_concat,\\\n",
    "hidden_1_layer_vals['weights']))\n",
    "# adding one bias node to the hidden layer\n",
    "layer1_const = tf.fill( [tf.shape(layer_1)[0], 1] ,1.0  )\n",
    "layer_concat =  tf.concat([layer_1, layer1_const], 1)\n",
    "# multiply output of hidden with a weight matrix to get final output\n",
    "output_layer = tf.matmul( layer_concat,output_layer_vals['weights'])\n",
    "# output_true shall have the original shape for error calculations\n",
    "output_true = tf.placeholder('float', [None, num_input])\n",
    "# define cost function\n",
    "meansq =    tf.reduce_mean(tf.square(output_layer - output_true))\n",
    "# define optimizer\n",
    "learn_rate = 0.1   # how fast the model should learn\n",
    "optimizer = tf.train.AdagradOptimizer(learn_rate).minimize(meansq)"
   ]
  },
  {
   "cell_type": "code",
   "execution_count": 24,
   "metadata": {},
   "outputs": [],
   "source": [
    "# initialising variables and starting the session\n",
    "init = tf.global_variables_initializer()\n",
    "sess = tf.Session()\n",
    "sess.run(init)\n",
    "# defining batch size, number of epochs and learning rate\n",
    "batch_size = 100  # how many images to use together for training\n",
    "hm_epochs =200    # how many times to go through the entire dataset\n",
    "tot_images = X_train.shape[0] # total number of images"
   ]
  },
  {
   "cell_type": "code",
   "execution_count": 25,
   "metadata": {
    "scrolled": false
   },
   "outputs": [
    {
     "name": "stdout",
     "output_type": "stream",
     "text": [
      "MSE train 45.47096944200303 MSE test 45.45663493292782\n",
      "Epoch 0 / 200 loss: 3287.859016418457\n",
      "MSE train 29.232484009715073 MSE test 29.29490657091357\n",
      "Epoch 1 / 200 loss: 1755.8993587493896\n",
      "MSE train 20.576133857685836 MSE test 20.594698386897182\n",
      "Epoch 2 / 200 loss: 1184.195053100586\n",
      "MSE train 15.494754437907725 MSE test 15.478001259624163\n",
      "Epoch 3 / 200 loss: 860.0043792724609\n",
      "MSE train 12.341900352537731 MSE test 12.296746591071667\n",
      "Epoch 4 / 200 loss: 665.832594871521\n",
      "MSE train 10.254885766881918 MSE test 10.202365266814267\n",
      "Epoch 5 / 200 loss: 541.5718011856079\n",
      "MSE train 8.778459425985455 MSE test 8.732516252264462\n",
      "Epoch 6 / 200 loss: 456.80153942108154\n",
      "MSE train 7.679155550612467 MSE test 7.643732852477211\n",
      "Epoch 7 / 200 loss: 395.26916551589966\n",
      "MSE train 6.8296415662770835 MSE test 6.808334383332125\n",
      "Epoch 8 / 200 loss: 348.615195274353\n",
      "MSE train 6.152705596198394 MSE test 6.148642863717057\n",
      "Epoch 9 / 200 loss: 312.04456615448\n",
      "MSE train 5.601255730696967 MSE test 5.614200911404191\n",
      "Epoch 10 / 200 loss: 282.5735077857971\n",
      ".......................\n",
      "MSE train 0.18588630020784805 MSE test 0.3527170517439543\n",
      "Epoch 190 / 200 loss: 8.967566788196564\n",
      "MSE train 0.18432013695372157 MSE test 0.3511113603751617\n",
      "Epoch 191 / 200 loss: 8.891676560044289\n",
      "MSE train 0.18277666479245339 MSE test 0.34952804819737593\n",
      "Epoch 192 / 200 loss: 8.816895388066769\n",
      "MSE train 0.1812553220053908 MSE test 0.3479667513219209\n",
      "Epoch 193 / 200 loss: 8.743195585906506\n",
      "MSE train 0.17975553924762652 MSE test 0.3464270444290627\n",
      "Epoch 194 / 200 loss: 8.67054958641529\n",
      "MSE train 0.17827679039385771 MSE test 0.34490858320206313\n",
      "Epoch 195 / 200 loss: 8.598931148648262\n",
      "MSE train 0.1768185518666954 MSE test 0.3434109933337983\n",
      "Epoch 196 / 200 loss: 8.52831481397152\n",
      "MSE train 0.17538031405508608 MSE test 0.3419338934251532\n",
      "Epoch 197 / 200 loss: 8.45867545902729\n",
      "MSE train 0.1739615940370366 MSE test 0.3404769260671537\n",
      "Epoch 198 / 200 loss: 8.389989010989666\n",
      "MSE train 0.1725619231343883 MSE test 0.3390397512521081\n",
      "Epoch 199 / 200 loss: 8.32223254442215\n"
     ]
    }
   ],
   "source": [
    "# running the model for a 200 epochs taking 100 users in batches\n",
    "# total improvement is printed out after each epoch\n",
    "for epoch in range(hm_epochs):\n",
    "    epoch_loss = 0    # initializing loss (error) as 0\n",
    "    \n",
    "    for i in range(int(tot_images/batch_size)):\n",
    "        epoch_x = X_train[ i*batch_size : (i+1)*batch_size ]\n",
    "        _, c = sess.run([optimizer, meansq],\\\n",
    "               feed_dict={input_layer: epoch_x, \\\n",
    "               output_true: epoch_x})\n",
    "        epoch_loss += c\n",
    "        \n",
    "    output_train = sess.run(output_layer,\\\n",
    "               feed_dict={input_layer:X_train})\n",
    "    output_test = sess.run(output_layer,\\\n",
    "                   feed_dict={input_layer:X_test})\n",
    "        \n",
    "    if epoch <= 10 or epoch >= 190:\n",
    "        print('MSE train', MSE(output_train, X_train),'MSE test', MSE(output_test, X_test))\n",
    "        print('Epoch', epoch, '/', hm_epochs, 'loss:',epoch_loss)\n",
    "    elif epoch == 11:\n",
    "        print('.......................')\n",
    "    else:\n",
    "        continue"
   ]
  },
  {
   "cell_type": "code",
   "execution_count": 26,
   "metadata": {},
   "outputs": [
    {
     "data": {
      "text/html": [
       "<div>\n",
       "<style scoped>\n",
       "    .dataframe tbody tr th:only-of-type {\n",
       "        vertical-align: middle;\n",
       "    }\n",
       "\n",
       "    .dataframe tbody tr th {\n",
       "        vertical-align: top;\n",
       "    }\n",
       "\n",
       "    .dataframe thead th {\n",
       "        text-align: right;\n",
       "    }\n",
       "</style>\n",
       "<table border=\"1\" class=\"dataframe\">\n",
       "  <thead>\n",
       "    <tr style=\"text-align: right;\">\n",
       "      <th></th>\n",
       "      <th>userId</th>\n",
       "      <th>title</th>\n",
       "      <th>rating</th>\n",
       "    </tr>\n",
       "  </thead>\n",
       "  <tbody>\n",
       "    <tr>\n",
       "      <th>18300507</th>\n",
       "      <td>6041</td>\n",
       "      <td>Urban Legends: Final Cut (2000)</td>\n",
       "      <td>3.702182</td>\n",
       "    </tr>\n",
       "    <tr>\n",
       "      <th>18299477</th>\n",
       "      <td>6041</td>\n",
       "      <td>Mr. Wrong (1996)</td>\n",
       "      <td>3.448936</td>\n",
       "    </tr>\n",
       "    <tr>\n",
       "      <th>18299026</th>\n",
       "      <td>6041</td>\n",
       "      <td>Incredible Journey, The (1963)</td>\n",
       "      <td>3.312068</td>\n",
       "    </tr>\n",
       "    <tr>\n",
       "      <th>18300617</th>\n",
       "      <td>6041</td>\n",
       "      <td>Willow (1988)</td>\n",
       "      <td>3.297467</td>\n",
       "    </tr>\n",
       "    <tr>\n",
       "      <th>18299885</th>\n",
       "      <td>6041</td>\n",
       "      <td>Raise the Red Lantern (1991)</td>\n",
       "      <td>3.180922</td>\n",
       "    </tr>\n",
       "    <tr>\n",
       "      <th>18298189</th>\n",
       "      <td>6041</td>\n",
       "      <td>Ciao, Professore! (Io speriamo che me la cavo ...</td>\n",
       "      <td>3.035590</td>\n",
       "    </tr>\n",
       "    <tr>\n",
       "      <th>18298576</th>\n",
       "      <td>6041</td>\n",
       "      <td>Fear and Loathing in Las Vegas (1998)</td>\n",
       "      <td>2.992504</td>\n",
       "    </tr>\n",
       "    <tr>\n",
       "      <th>18297688</th>\n",
       "      <td>6041</td>\n",
       "      <td>African Queen, The (1951)</td>\n",
       "      <td>2.956947</td>\n",
       "    </tr>\n",
       "    <tr>\n",
       "      <th>18299736</th>\n",
       "      <td>6041</td>\n",
       "      <td>Perfect Storm, The (2000)</td>\n",
       "      <td>2.928829</td>\n",
       "    </tr>\n",
       "    <tr>\n",
       "      <th>18299135</th>\n",
       "      <td>6041</td>\n",
       "      <td>Kid, The (2000)</td>\n",
       "      <td>2.895118</td>\n",
       "    </tr>\n",
       "  </tbody>\n",
       "</table>\n",
       "</div>"
      ],
      "text/plain": [
       "          userId                                              title    rating\n",
       "18300507    6041                    Urban Legends: Final Cut (2000)  3.702182\n",
       "18299477    6041                                   Mr. Wrong (1996)  3.448936\n",
       "18299026    6041                     Incredible Journey, The (1963)  3.312068\n",
       "18300617    6041                                      Willow (1988)  3.297467\n",
       "18299885    6041                       Raise the Red Lantern (1991)  3.180922\n",
       "18298189    6041  Ciao, Professore! (Io speriamo che me la cavo ...  3.035590\n",
       "18298576    6041              Fear and Loathing in Las Vegas (1998)  2.992504\n",
       "18297688    6041                          African Queen, The (1951)  2.956947\n",
       "18299736    6041                          Perfect Storm, The (2000)  2.928829\n",
       "18299135    6041                                    Kid, The (2000)  2.895118"
      ]
     },
     "execution_count": 26,
     "metadata": {},
     "output_type": "execute_result"
    }
   ],
   "source": [
    "# a top 10 ranking for a new user (9999991) who rates \"Chariots of Fire (1981)\" with a 5\n",
    "userCol = ur20plus[\"userId\"]\n",
    "max_value = userCol.max()\n",
    "new_userId = max_value + 1\n",
    "ur20plus = ur20plus.append(pd.DataFrame([[\"Chariots of Fire (1981)\",1,new_userId,1,5,\"genre\",1]], columns =ur20plus.columns), ignore_index=True)\n",
    "scaler = MinMaxScaler()\n",
    "ur20plus['rating'] = ur20plus['rating'].values.astype(float)\n",
    "rating_scaled = pd.DataFrame(scaler.fit_transform(ur20plus['rating'].values.reshape(-1,1)))\n",
    "ur20plus['rating'] = rating_scaled\n",
    "ur20plus = ur20plus.drop_duplicates(['userId', 'title'])\n",
    "user_movie_matrix = ur20plus.pivot(index='userId', columns='title', values='rating')\n",
    "user_movie_matrix.fillna(0, inplace=True)\n",
    "pred_data = pd.DataFrame()\n",
    "preds = sess.run(output_layer, feed_dict={input_layer: user_movie_matrix})\n",
    "pred_data = pred_data.append(pd.DataFrame(preds))\n",
    "pred_data = pred_data.stack().reset_index(name='rating')\n",
    "pred_data.columns = ['userId', 'title', 'rating']\n",
    "users = user_movie_matrix.index.tolist()\n",
    "movies = user_movie_matrix.columns.tolist()\n",
    "pred_data['userId'] = pred_data['userId'].map(lambda value: users[value])\n",
    "pred_data['title'] = pred_data['title'].map(lambda value: movies[value])\n",
    "keys = ['userId', 'title']\n",
    "index_1 = pred_data.set_index(keys).index\n",
    "index_2 = ur20plus.set_index(keys).index\n",
    "top_ten_ranked = pred_data[~index_1.isin(index_2)]\n",
    "top_ten_ranked = top_ten_ranked.sort_values(['userId', 'rating'], ascending=[True, False])\n",
    "top_ten_ranked = top_ten_ranked.groupby('userId').head(10)\n",
    "top_ten_ranked.loc[top_ten_ranked['userId'] == new_userId]"
   ]
  },
  {
   "cell_type": "code",
   "execution_count": 27,
   "metadata": {},
   "outputs": [
    {
     "data": {
      "text/html": [
       "<div>\n",
       "<style scoped>\n",
       "    .dataframe tbody tr th:only-of-type {\n",
       "        vertical-align: middle;\n",
       "    }\n",
       "\n",
       "    .dataframe tbody tr th {\n",
       "        vertical-align: top;\n",
       "    }\n",
       "\n",
       "    .dataframe thead th {\n",
       "        text-align: right;\n",
       "    }\n",
       "</style>\n",
       "<table border=\"1\" class=\"dataframe\">\n",
       "  <thead>\n",
       "    <tr style=\"text-align: right;\">\n",
       "      <th></th>\n",
       "      <th>userId</th>\n",
       "      <th>title</th>\n",
       "      <th>rating</th>\n",
       "    </tr>\n",
       "  </thead>\n",
       "  <tbody>\n",
       "    <tr>\n",
       "      <th>18301173</th>\n",
       "      <td>6042</td>\n",
       "      <td>Casablanca (1942)</td>\n",
       "      <td>4.020238</td>\n",
       "    </tr>\n",
       "    <tr>\n",
       "      <th>18301843</th>\n",
       "      <td>6042</td>\n",
       "      <td>Grateful Dead (1995)</td>\n",
       "      <td>3.280342</td>\n",
       "    </tr>\n",
       "    <tr>\n",
       "      <th>18303159</th>\n",
       "      <td>6042</td>\n",
       "      <td>Singles (1992)</td>\n",
       "      <td>3.231777</td>\n",
       "    </tr>\n",
       "    <tr>\n",
       "      <th>18302325</th>\n",
       "      <td>6042</td>\n",
       "      <td>Love Stinks (1999)</td>\n",
       "      <td>3.206244</td>\n",
       "    </tr>\n",
       "    <tr>\n",
       "      <th>18302960</th>\n",
       "      <td>6042</td>\n",
       "      <td>Relic, The (1997)</td>\n",
       "      <td>3.145146</td>\n",
       "    </tr>\n",
       "    <tr>\n",
       "      <th>18301448</th>\n",
       "      <td>6042</td>\n",
       "      <td>Dirty Work (1998)</td>\n",
       "      <td>3.013652</td>\n",
       "    </tr>\n",
       "    <tr>\n",
       "      <th>18301866</th>\n",
       "      <td>6042</td>\n",
       "      <td>Grumpier Old Men (1995)</td>\n",
       "      <td>3.002073</td>\n",
       "    </tr>\n",
       "    <tr>\n",
       "      <th>18302446</th>\n",
       "      <td>6042</td>\n",
       "      <td>Mickey Blue Eyes (1999)</td>\n",
       "      <td>2.978279</td>\n",
       "    </tr>\n",
       "    <tr>\n",
       "      <th>18302931</th>\n",
       "      <td>6042</td>\n",
       "      <td>Rambo III (1988)</td>\n",
       "      <td>2.897503</td>\n",
       "    </tr>\n",
       "    <tr>\n",
       "      <th>18301879</th>\n",
       "      <td>6042</td>\n",
       "      <td>Hackers (1995)</td>\n",
       "      <td>2.816050</td>\n",
       "    </tr>\n",
       "  </tbody>\n",
       "</table>\n",
       "</div>"
      ],
      "text/plain": [
       "          userId                    title    rating\n",
       "18301173    6042        Casablanca (1942)  4.020238\n",
       "18301843    6042     Grateful Dead (1995)  3.280342\n",
       "18303159    6042           Singles (1992)  3.231777\n",
       "18302325    6042       Love Stinks (1999)  3.206244\n",
       "18302960    6042        Relic, The (1997)  3.145146\n",
       "18301448    6042        Dirty Work (1998)  3.013652\n",
       "18301866    6042  Grumpier Old Men (1995)  3.002073\n",
       "18302446    6042  Mickey Blue Eyes (1999)  2.978279\n",
       "18302931    6042         Rambo III (1988)  2.897503\n",
       "18301879    6042           Hackers (1995)  2.816050"
      ]
     },
     "execution_count": 27,
     "metadata": {},
     "output_type": "execute_result"
    }
   ],
   "source": [
    "# a top 10 ranking for a new user (9999992) who rates \"Hurricane, The (1999)\" with a 3\n",
    "userCol = ur20plus[\"userId\"]\n",
    "max_value = userCol.max()\n",
    "new_userId = max_value + 1\n",
    "ur20plus = ur20plus.append(pd.DataFrame([[\"Hurricane, The (1999)\",1,new_userId,1,3,\"genre\",1]], columns =ur20plus.columns), ignore_index=True)\n",
    "scaler = MinMaxScaler()\n",
    "ur20plus['rating'] = ur20plus['rating'].values.astype(float)\n",
    "rating_scaled = pd.DataFrame(scaler.fit_transform(ur20plus['rating'].values.reshape(-1,1)))\n",
    "ur20plus['rating'] = rating_scaled\n",
    "ur20plus = ur20plus.drop_duplicates(['userId', 'title'])\n",
    "user_movie_matrix = ur20plus.pivot(index='userId', columns='title', values='rating')\n",
    "user_movie_matrix.fillna(0, inplace=True)\n",
    "pred_data = pd.DataFrame()\n",
    "preds = sess.run(output_layer, feed_dict={input_layer: user_movie_matrix})\n",
    "pred_data = pred_data.append(pd.DataFrame(preds))\n",
    "pred_data = pred_data.stack().reset_index(name='rating')\n",
    "pred_data.columns = ['userId', 'title', 'rating']\n",
    "users = user_movie_matrix.index.tolist()\n",
    "movies = user_movie_matrix.columns.tolist()\n",
    "pred_data['userId'] = pred_data['userId'].map(lambda value: users[value])\n",
    "pred_data['title'] = pred_data['title'].map(lambda value: movies[value])\n",
    "keys = ['userId', 'title']\n",
    "index_1 = pred_data.set_index(keys).index\n",
    "index_2 = ur20plus.set_index(keys).index\n",
    "top_ten_ranked = pred_data[~index_1.isin(index_2)]\n",
    "top_ten_ranked = top_ten_ranked.sort_values(['userId', 'rating'], ascending=[True, False])\n",
    "top_ten_ranked = top_ten_ranked.groupby('userId').head(10)\n",
    "top_ten_ranked.loc[top_ten_ranked['userId'] == new_userId]"
   ]
  }
 ],
 "metadata": {
  "kernelspec": {
   "display_name": "Python 3",
   "language": "python",
   "name": "python3"
  },
  "language_info": {
   "codemirror_mode": {
    "name": "ipython",
    "version": 3
   },
   "file_extension": ".py",
   "mimetype": "text/x-python",
   "name": "python",
   "nbconvert_exporter": "python",
   "pygments_lexer": "ipython3",
   "version": "3.7.7"
  }
 },
 "nbformat": 4,
 "nbformat_minor": 2
}
